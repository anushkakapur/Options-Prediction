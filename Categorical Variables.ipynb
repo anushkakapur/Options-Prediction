{
 "cells": [
  {
   "cell_type": "code",
   "execution_count": 182,
   "metadata": {
    "ExecuteTime": {
     "end_time": "2021-03-29T00:14:40.646634Z",
     "start_time": "2021-03-29T00:14:40.643113Z"
    }
   },
   "outputs": [],
   "source": [
    "import pandas as pd\n",
    "import numpy as np"
   ]
  },
  {
   "cell_type": "code",
   "execution_count": 183,
   "metadata": {
    "ExecuteTime": {
     "end_time": "2021-03-29T00:14:40.839946Z",
     "start_time": "2021-03-29T00:14:40.824598Z"
    }
   },
   "outputs": [],
   "source": [
    "train = pd.read_csv('option_train.csv')\n",
    "test = pd.read_csv('option_test_wolabel.csv')"
   ]
  },
  {
   "cell_type": "code",
   "execution_count": 184,
   "metadata": {
    "ExecuteTime": {
     "end_time": "2021-03-29T00:14:40.976478Z",
     "start_time": "2021-03-29T00:14:40.969606Z"
    }
   },
   "outputs": [],
   "source": [
    "train = train.replace({'BS': {'Under':0, 'Over':1}})"
   ]
  },
  {
   "cell_type": "code",
   "execution_count": 185,
   "metadata": {
    "ExecuteTime": {
     "end_time": "2021-03-29T00:14:41.135781Z",
     "start_time": "2021-03-29T00:14:41.126630Z"
    }
   },
   "outputs": [
    {
     "data": {
      "text/html": [
       "<div>\n",
       "<style scoped>\n",
       "    .dataframe tbody tr th:only-of-type {\n",
       "        vertical-align: middle;\n",
       "    }\n",
       "\n",
       "    .dataframe tbody tr th {\n",
       "        vertical-align: top;\n",
       "    }\n",
       "\n",
       "    .dataframe thead th {\n",
       "        text-align: right;\n",
       "    }\n",
       "</style>\n",
       "<table border=\"1\" class=\"dataframe\">\n",
       "  <thead>\n",
       "    <tr style=\"text-align: right;\">\n",
       "      <th></th>\n",
       "      <th>Value</th>\n",
       "      <th>S</th>\n",
       "      <th>K</th>\n",
       "      <th>tau</th>\n",
       "      <th>r</th>\n",
       "      <th>BS</th>\n",
       "    </tr>\n",
       "  </thead>\n",
       "  <tbody>\n",
       "    <tr>\n",
       "      <th>0</th>\n",
       "      <td>21.670404</td>\n",
       "      <td>431.623898</td>\n",
       "      <td>420</td>\n",
       "      <td>0.341270</td>\n",
       "      <td>0.03013</td>\n",
       "      <td>0</td>\n",
       "    </tr>\n",
       "    <tr>\n",
       "      <th>1</th>\n",
       "      <td>0.125000</td>\n",
       "      <td>427.015526</td>\n",
       "      <td>465</td>\n",
       "      <td>0.166667</td>\n",
       "      <td>0.03126</td>\n",
       "      <td>1</td>\n",
       "    </tr>\n",
       "    <tr>\n",
       "      <th>2</th>\n",
       "      <td>20.691244</td>\n",
       "      <td>427.762336</td>\n",
       "      <td>415</td>\n",
       "      <td>0.265873</td>\n",
       "      <td>0.03116</td>\n",
       "      <td>0</td>\n",
       "    </tr>\n",
       "    <tr>\n",
       "      <th>3</th>\n",
       "      <td>1.035002</td>\n",
       "      <td>451.711658</td>\n",
       "      <td>460</td>\n",
       "      <td>0.063492</td>\n",
       "      <td>0.02972</td>\n",
       "      <td>1</td>\n",
       "    </tr>\n",
       "    <tr>\n",
       "      <th>4</th>\n",
       "      <td>39.553020</td>\n",
       "      <td>446.718974</td>\n",
       "      <td>410</td>\n",
       "      <td>0.166667</td>\n",
       "      <td>0.02962</td>\n",
       "      <td>0</td>\n",
       "    </tr>\n",
       "  </tbody>\n",
       "</table>\n",
       "</div>"
      ],
      "text/plain": [
       "       Value           S    K       tau        r  BS\n",
       "0  21.670404  431.623898  420  0.341270  0.03013   0\n",
       "1   0.125000  427.015526  465  0.166667  0.03126   1\n",
       "2  20.691244  427.762336  415  0.265873  0.03116   0\n",
       "3   1.035002  451.711658  460  0.063492  0.02972   1\n",
       "4  39.553020  446.718974  410  0.166667  0.02962   0"
      ]
     },
     "execution_count": 185,
     "metadata": {},
     "output_type": "execute_result"
    }
   ],
   "source": [
    "train.head()"
   ]
  },
  {
   "cell_type": "code",
   "execution_count": 186,
   "metadata": {
    "ExecuteTime": {
     "end_time": "2021-03-29T00:14:41.260437Z",
     "start_time": "2021-03-29T00:14:41.255614Z"
    }
   },
   "outputs": [
    {
     "data": {
      "text/plain": [
       "(1680, 6)"
      ]
     },
     "execution_count": 186,
     "metadata": {},
     "output_type": "execute_result"
    }
   ],
   "source": [
    "train.shape"
   ]
  },
  {
   "cell_type": "code",
   "execution_count": 187,
   "metadata": {
    "ExecuteTime": {
     "end_time": "2021-03-29T00:14:42.109608Z",
     "start_time": "2021-03-29T00:14:42.078976Z"
    }
   },
   "outputs": [
    {
     "data": {
      "text/html": [
       "<div>\n",
       "<style scoped>\n",
       "    .dataframe tbody tr th:only-of-type {\n",
       "        vertical-align: middle;\n",
       "    }\n",
       "\n",
       "    .dataframe tbody tr th {\n",
       "        vertical-align: top;\n",
       "    }\n",
       "\n",
       "    .dataframe thead th {\n",
       "        text-align: right;\n",
       "    }\n",
       "</style>\n",
       "<table border=\"1\" class=\"dataframe\">\n",
       "  <thead>\n",
       "    <tr style=\"text-align: right;\">\n",
       "      <th></th>\n",
       "      <th>Value</th>\n",
       "      <th>S</th>\n",
       "      <th>K</th>\n",
       "      <th>tau</th>\n",
       "      <th>r</th>\n",
       "      <th>BS</th>\n",
       "    </tr>\n",
       "  </thead>\n",
       "  <tbody>\n",
       "    <tr>\n",
       "      <th>count</th>\n",
       "      <td>1680.000000</td>\n",
       "      <td>1680.000000</td>\n",
       "      <td>1680.000000</td>\n",
       "      <td>1680.000000</td>\n",
       "      <td>1680.000000</td>\n",
       "      <td>1680.000000</td>\n",
       "    </tr>\n",
       "    <tr>\n",
       "      <th>mean</th>\n",
       "      <td>15.064384</td>\n",
       "      <td>440.901494</td>\n",
       "      <td>438.247024</td>\n",
       "      <td>0.201930</td>\n",
       "      <td>0.030235</td>\n",
       "      <td>0.436905</td>\n",
       "    </tr>\n",
       "    <tr>\n",
       "      <th>std</th>\n",
       "      <td>14.035795</td>\n",
       "      <td>7.527497</td>\n",
       "      <td>23.396936</td>\n",
       "      <td>0.099712</td>\n",
       "      <td>0.000557</td>\n",
       "      <td>0.496151</td>\n",
       "    </tr>\n",
       "    <tr>\n",
       "      <th>min</th>\n",
       "      <td>0.125000</td>\n",
       "      <td>425.472331</td>\n",
       "      <td>375.000000</td>\n",
       "      <td>0.003968</td>\n",
       "      <td>0.029510</td>\n",
       "      <td>0.000000</td>\n",
       "    </tr>\n",
       "    <tr>\n",
       "      <th>25%</th>\n",
       "      <td>2.255001</td>\n",
       "      <td>433.863864</td>\n",
       "      <td>420.000000</td>\n",
       "      <td>0.119048</td>\n",
       "      <td>0.029820</td>\n",
       "      <td>0.000000</td>\n",
       "    </tr>\n",
       "    <tr>\n",
       "      <th>50%</th>\n",
       "      <td>11.190967</td>\n",
       "      <td>442.579723</td>\n",
       "      <td>440.000000</td>\n",
       "      <td>0.202381</td>\n",
       "      <td>0.030130</td>\n",
       "      <td>0.000000</td>\n",
       "    </tr>\n",
       "    <tr>\n",
       "      <th>75%</th>\n",
       "      <td>25.744375</td>\n",
       "      <td>447.320414</td>\n",
       "      <td>455.000000</td>\n",
       "      <td>0.285714</td>\n",
       "      <td>0.030540</td>\n",
       "      <td>1.000000</td>\n",
       "    </tr>\n",
       "    <tr>\n",
       "      <th>max</th>\n",
       "      <td>60.149367</td>\n",
       "      <td>455.880619</td>\n",
       "      <td>500.000000</td>\n",
       "      <td>0.392857</td>\n",
       "      <td>0.031880</td>\n",
       "      <td>1.000000</td>\n",
       "    </tr>\n",
       "  </tbody>\n",
       "</table>\n",
       "</div>"
      ],
      "text/plain": [
       "             Value            S            K          tau            r  \\\n",
       "count  1680.000000  1680.000000  1680.000000  1680.000000  1680.000000   \n",
       "mean     15.064384   440.901494   438.247024     0.201930     0.030235   \n",
       "std      14.035795     7.527497    23.396936     0.099712     0.000557   \n",
       "min       0.125000   425.472331   375.000000     0.003968     0.029510   \n",
       "25%       2.255001   433.863864   420.000000     0.119048     0.029820   \n",
       "50%      11.190967   442.579723   440.000000     0.202381     0.030130   \n",
       "75%      25.744375   447.320414   455.000000     0.285714     0.030540   \n",
       "max      60.149367   455.880619   500.000000     0.392857     0.031880   \n",
       "\n",
       "                BS  \n",
       "count  1680.000000  \n",
       "mean      0.436905  \n",
       "std       0.496151  \n",
       "min       0.000000  \n",
       "25%       0.000000  \n",
       "50%       0.000000  \n",
       "75%       1.000000  \n",
       "max       1.000000  "
      ]
     },
     "execution_count": 187,
     "metadata": {},
     "output_type": "execute_result"
    }
   ],
   "source": [
    "train.describe()"
   ]
  },
  {
   "cell_type": "markdown",
   "metadata": {},
   "source": [
    "# Creating Variables"
   ]
  },
  {
   "cell_type": "code",
   "execution_count": 192,
   "metadata": {
    "ExecuteTime": {
     "end_time": "2021-03-29T00:15:00.110719Z",
     "start_time": "2021-03-29T00:15:00.104806Z"
    }
   },
   "outputs": [],
   "source": [
    "new = train.copy()\n",
    "new = new.drop(['BS'], axis=1)"
   ]
  },
  {
   "cell_type": "code",
   "execution_count": 193,
   "metadata": {
    "ExecuteTime": {
     "end_time": "2021-03-29T00:15:03.421131Z",
     "start_time": "2021-03-29T00:15:03.416691Z"
    }
   },
   "outputs": [],
   "source": [
    "col = list(new.columns)\n",
    "col_r = col[::-1]"
   ]
  },
  {
   "cell_type": "code",
   "execution_count": 194,
   "metadata": {
    "ExecuteTime": {
     "end_time": "2021-03-29T00:15:04.209409Z",
     "start_time": "2021-03-29T00:15:04.187092Z"
    }
   },
   "outputs": [],
   "source": [
    "for i in new.columns:\n",
    "    for j in col_r:\n",
    "        if i==j:\n",
    "            col_r.remove(i)\n",
    "        else:\n",
    "            new[i+'_times_'+j] = new[i]*new[j]\n",
    "            new[i+'_by_'+j] = new[i]/new[j]"
   ]
  },
  {
   "cell_type": "code",
   "execution_count": 195,
   "metadata": {
    "ExecuteTime": {
     "end_time": "2021-03-29T00:15:04.788035Z",
     "start_time": "2021-03-29T00:15:04.779303Z"
    }
   },
   "outputs": [],
   "source": [
    "new = new.replace([np.inf, -np.inf], np.nan)"
   ]
  },
  {
   "cell_type": "code",
   "execution_count": 196,
   "metadata": {
    "ExecuteTime": {
     "end_time": "2021-03-29T00:15:06.305313Z",
     "start_time": "2021-03-29T00:15:06.280021Z"
    },
    "scrolled": true
   },
   "outputs": [
    {
     "data": {
      "text/html": [
       "<div>\n",
       "<style scoped>\n",
       "    .dataframe tbody tr th:only-of-type {\n",
       "        vertical-align: middle;\n",
       "    }\n",
       "\n",
       "    .dataframe tbody tr th {\n",
       "        vertical-align: top;\n",
       "    }\n",
       "\n",
       "    .dataframe thead th {\n",
       "        text-align: right;\n",
       "    }\n",
       "</style>\n",
       "<table border=\"1\" class=\"dataframe\">\n",
       "  <thead>\n",
       "    <tr style=\"text-align: right;\">\n",
       "      <th></th>\n",
       "      <th>Value</th>\n",
       "      <th>S</th>\n",
       "      <th>K</th>\n",
       "      <th>tau</th>\n",
       "      <th>r</th>\n",
       "      <th>Value_times_r</th>\n",
       "      <th>Value_by_r</th>\n",
       "      <th>Value_times_tau</th>\n",
       "      <th>Value_by_tau</th>\n",
       "      <th>Value_times_K</th>\n",
       "      <th>...</th>\n",
       "      <th>S_times_tau</th>\n",
       "      <th>S_by_tau</th>\n",
       "      <th>S_times_K</th>\n",
       "      <th>S_by_K</th>\n",
       "      <th>K_times_r</th>\n",
       "      <th>K_by_r</th>\n",
       "      <th>K_times_tau</th>\n",
       "      <th>K_by_tau</th>\n",
       "      <th>tau_times_r</th>\n",
       "      <th>tau_by_r</th>\n",
       "    </tr>\n",
       "  </thead>\n",
       "  <tbody>\n",
       "    <tr>\n",
       "      <th>0</th>\n",
       "      <td>21.670404</td>\n",
       "      <td>431.623898</td>\n",
       "      <td>420</td>\n",
       "      <td>0.341270</td>\n",
       "      <td>0.03013</td>\n",
       "      <td>0.652929</td>\n",
       "      <td>719.230152</td>\n",
       "      <td>7.395455</td>\n",
       "      <td>63.499325</td>\n",
       "      <td>9101.569877</td>\n",
       "      <td>...</td>\n",
       "      <td>147.300219</td>\n",
       "      <td>1264.758401</td>\n",
       "      <td>181282.037286</td>\n",
       "      <td>1.027676</td>\n",
       "      <td>12.6546</td>\n",
       "      <td>13939.595088</td>\n",
       "      <td>143.333333</td>\n",
       "      <td>1230.697675</td>\n",
       "      <td>0.010282</td>\n",
       "      <td>11.326580</td>\n",
       "    </tr>\n",
       "    <tr>\n",
       "      <th>1</th>\n",
       "      <td>0.125000</td>\n",
       "      <td>427.015526</td>\n",
       "      <td>465</td>\n",
       "      <td>0.166667</td>\n",
       "      <td>0.03126</td>\n",
       "      <td>0.003908</td>\n",
       "      <td>3.998720</td>\n",
       "      <td>0.020833</td>\n",
       "      <td>0.750000</td>\n",
       "      <td>58.125001</td>\n",
       "      <td>...</td>\n",
       "      <td>71.169254</td>\n",
       "      <td>2562.093150</td>\n",
       "      <td>198562.219543</td>\n",
       "      <td>0.918313</td>\n",
       "      <td>14.5359</td>\n",
       "      <td>14875.239923</td>\n",
       "      <td>77.500000</td>\n",
       "      <td>2789.999994</td>\n",
       "      <td>0.005210</td>\n",
       "      <td>5.331627</td>\n",
       "    </tr>\n",
       "    <tr>\n",
       "      <th>2</th>\n",
       "      <td>20.691244</td>\n",
       "      <td>427.762336</td>\n",
       "      <td>415</td>\n",
       "      <td>0.265873</td>\n",
       "      <td>0.03116</td>\n",
       "      <td>0.644739</td>\n",
       "      <td>664.032230</td>\n",
       "      <td>5.501244</td>\n",
       "      <td>77.823784</td>\n",
       "      <td>8586.866380</td>\n",
       "      <td>...</td>\n",
       "      <td>113.730463</td>\n",
       "      <td>1608.897145</td>\n",
       "      <td>177521.369606</td>\n",
       "      <td>1.030753</td>\n",
       "      <td>12.9314</td>\n",
       "      <td>13318.356868</td>\n",
       "      <td>110.337302</td>\n",
       "      <td>1560.895522</td>\n",
       "      <td>0.008285</td>\n",
       "      <td>8.532510</td>\n",
       "    </tr>\n",
       "    <tr>\n",
       "      <th>3</th>\n",
       "      <td>1.035002</td>\n",
       "      <td>451.711658</td>\n",
       "      <td>460</td>\n",
       "      <td>0.063492</td>\n",
       "      <td>0.02972</td>\n",
       "      <td>0.030760</td>\n",
       "      <td>34.825101</td>\n",
       "      <td>0.065714</td>\n",
       "      <td>16.301282</td>\n",
       "      <td>476.100926</td>\n",
       "      <td>...</td>\n",
       "      <td>28.680105</td>\n",
       "      <td>7114.458665</td>\n",
       "      <td>207787.362588</td>\n",
       "      <td>0.981982</td>\n",
       "      <td>13.6712</td>\n",
       "      <td>15477.792732</td>\n",
       "      <td>29.206349</td>\n",
       "      <td>7245.000056</td>\n",
       "      <td>0.001887</td>\n",
       "      <td>2.136341</td>\n",
       "    </tr>\n",
       "    <tr>\n",
       "      <th>4</th>\n",
       "      <td>39.553020</td>\n",
       "      <td>446.718974</td>\n",
       "      <td>410</td>\n",
       "      <td>0.166667</td>\n",
       "      <td>0.02962</td>\n",
       "      <td>1.171560</td>\n",
       "      <td>1335.348412</td>\n",
       "      <td>6.592170</td>\n",
       "      <td>237.318119</td>\n",
       "      <td>16216.738180</td>\n",
       "      <td>...</td>\n",
       "      <td>74.453163</td>\n",
       "      <td>2680.313841</td>\n",
       "      <td>183154.779504</td>\n",
       "      <td>1.089558</td>\n",
       "      <td>12.1442</td>\n",
       "      <td>13841.998650</td>\n",
       "      <td>68.333333</td>\n",
       "      <td>2459.999995</td>\n",
       "      <td>0.004937</td>\n",
       "      <td>5.626829</td>\n",
       "    </tr>\n",
       "  </tbody>\n",
       "</table>\n",
       "<p>5 rows × 25 columns</p>\n",
       "</div>"
      ],
      "text/plain": [
       "       Value           S    K       tau        r  Value_times_r   Value_by_r  \\\n",
       "0  21.670404  431.623898  420  0.341270  0.03013       0.652929   719.230152   \n",
       "1   0.125000  427.015526  465  0.166667  0.03126       0.003908     3.998720   \n",
       "2  20.691244  427.762336  415  0.265873  0.03116       0.644739   664.032230   \n",
       "3   1.035002  451.711658  460  0.063492  0.02972       0.030760    34.825101   \n",
       "4  39.553020  446.718974  410  0.166667  0.02962       1.171560  1335.348412   \n",
       "\n",
       "   Value_times_tau  Value_by_tau  Value_times_K  ...  S_times_tau  \\\n",
       "0         7.395455     63.499325    9101.569877  ...   147.300219   \n",
       "1         0.020833      0.750000      58.125001  ...    71.169254   \n",
       "2         5.501244     77.823784    8586.866380  ...   113.730463   \n",
       "3         0.065714     16.301282     476.100926  ...    28.680105   \n",
       "4         6.592170    237.318119   16216.738180  ...    74.453163   \n",
       "\n",
       "      S_by_tau      S_times_K    S_by_K  K_times_r        K_by_r  K_times_tau  \\\n",
       "0  1264.758401  181282.037286  1.027676    12.6546  13939.595088   143.333333   \n",
       "1  2562.093150  198562.219543  0.918313    14.5359  14875.239923    77.500000   \n",
       "2  1608.897145  177521.369606  1.030753    12.9314  13318.356868   110.337302   \n",
       "3  7114.458665  207787.362588  0.981982    13.6712  15477.792732    29.206349   \n",
       "4  2680.313841  183154.779504  1.089558    12.1442  13841.998650    68.333333   \n",
       "\n",
       "      K_by_tau  tau_times_r   tau_by_r  \n",
       "0  1230.697675     0.010282  11.326580  \n",
       "1  2789.999994     0.005210   5.331627  \n",
       "2  1560.895522     0.008285   8.532510  \n",
       "3  7245.000056     0.001887   2.136341  \n",
       "4  2459.999995     0.004937   5.626829  \n",
       "\n",
       "[5 rows x 25 columns]"
      ]
     },
     "execution_count": 196,
     "metadata": {},
     "output_type": "execute_result"
    }
   ],
   "source": [
    "new.head()"
   ]
  },
  {
   "cell_type": "markdown",
   "metadata": {},
   "source": [
    "# Model"
   ]
  },
  {
   "cell_type": "markdown",
   "metadata": {},
   "source": [
    "## Cross Validation"
   ]
  },
  {
   "cell_type": "code",
   "execution_count": 249,
   "metadata": {
    "ExecuteTime": {
     "end_time": "2021-03-29T00:46:17.872217Z",
     "start_time": "2021-03-29T00:46:17.869229Z"
    }
   },
   "outputs": [],
   "source": [
    "#need to work on this"
   ]
  },
  {
   "cell_type": "markdown",
   "metadata": {},
   "source": [
    "## Feature Selection"
   ]
  },
  {
   "cell_type": "code",
   "execution_count": null,
   "metadata": {},
   "outputs": [],
   "source": [
    "#need to work on this"
   ]
  },
  {
   "cell_type": "markdown",
   "metadata": {},
   "source": [
    "## Modeling"
   ]
  },
  {
   "cell_type": "code",
   "execution_count": 205,
   "metadata": {
    "ExecuteTime": {
     "end_time": "2021-03-29T00:17:38.081997Z",
     "start_time": "2021-03-29T00:17:37.953518Z"
    }
   },
   "outputs": [],
   "source": [
    "from sklearn.model_selection import train_test_split\n",
    "from sklearn.preprocessing import MinMaxScaler"
   ]
  },
  {
   "cell_type": "code",
   "execution_count": 197,
   "metadata": {
    "ExecuteTime": {
     "end_time": "2021-03-29T00:15:39.005228Z",
     "start_time": "2021-03-29T00:15:39.000570Z"
    }
   },
   "outputs": [],
   "source": [
    "train_final = new.copy()"
   ]
  },
  {
   "cell_type": "code",
   "execution_count": 203,
   "metadata": {
    "ExecuteTime": {
     "end_time": "2021-03-29T00:16:52.175026Z",
     "start_time": "2021-03-29T00:16:52.170642Z"
    }
   },
   "outputs": [],
   "source": [
    "X = train_final.values\n",
    "y = train['BS'].values"
   ]
  },
  {
   "cell_type": "code",
   "execution_count": 207,
   "metadata": {
    "ExecuteTime": {
     "end_time": "2021-03-29T00:25:02.349383Z",
     "start_time": "2021-03-29T00:25:02.345403Z"
    }
   },
   "outputs": [],
   "source": [
    "X_train, X_test, y_train, y_test = train_test_split(X,y,test_size=0.20,random_state = 1)"
   ]
  },
  {
   "cell_type": "code",
   "execution_count": 208,
   "metadata": {
    "ExecuteTime": {
     "end_time": "2021-03-29T00:25:02.868484Z",
     "start_time": "2021-03-29T00:25:02.862664Z"
    }
   },
   "outputs": [],
   "source": [
    "mms = MinMaxScaler()\n",
    "X_train_norm = mms.fit_transform(X_train)\n",
    "X_test_norm = mms.transform(X_test)"
   ]
  },
  {
   "cell_type": "markdown",
   "metadata": {},
   "source": [
    "# Logistic Regression with all variables"
   ]
  },
  {
   "cell_type": "code",
   "execution_count": 218,
   "metadata": {
    "ExecuteTime": {
     "end_time": "2021-03-29T00:30:06.085398Z",
     "start_time": "2021-03-29T00:30:06.006860Z"
    }
   },
   "outputs": [],
   "source": [
    "from sklearn.linear_model import LogisticRegression\n",
    "mlr = LogisticRegression(penalty='none', max_iter=1700).fit(X_train, y_train)"
   ]
  },
  {
   "cell_type": "code",
   "execution_count": 221,
   "metadata": {
    "ExecuteTime": {
     "end_time": "2021-03-29T00:32:07.977757Z",
     "start_time": "2021-03-29T00:32:07.972251Z"
    }
   },
   "outputs": [
    {
     "name": "stdout",
     "output_type": "stream",
     "text": [
      "Classification Error: 0.05654761904761907\n"
     ]
    }
   ],
   "source": [
    "print(f'Classification Error: {1-mlr.score(X_test, y_test)}')"
   ]
  },
  {
   "cell_type": "code",
   "execution_count": 226,
   "metadata": {
    "ExecuteTime": {
     "end_time": "2021-03-29T00:33:37.421348Z",
     "start_time": "2021-03-29T00:33:36.959625Z"
    }
   },
   "outputs": [
    {
     "name": "stderr",
     "output_type": "stream",
     "text": [
      "/Users/anushkakapur/opt/anaconda3/lib/python3.8/site-packages/sklearn/linear_model/_logistic.py:762: ConvergenceWarning: lbfgs failed to converge (status=1):\n",
      "STOP: TOTAL NO. of ITERATIONS REACHED LIMIT.\n",
      "\n",
      "Increase the number of iterations (max_iter) or scale the data as shown in:\n",
      "    https://scikit-learn.org/stable/modules/preprocessing.html\n",
      "Please also refer to the documentation for alternative solver options:\n",
      "    https://scikit-learn.org/stable/modules/linear_model.html#logistic-regression\n",
      "  n_iter_i = _check_optimize_result(\n"
     ]
    }
   ],
   "source": [
    "#not sure why im getting the warning for the normalized x\n",
    "from sklearn.linear_model import LogisticRegression\n",
    "mlr = LogisticRegression(penalty='none', max_iter=2000).fit(X_train_norm, y_train)"
   ]
  },
  {
   "cell_type": "code",
   "execution_count": 223,
   "metadata": {
    "ExecuteTime": {
     "end_time": "2021-03-29T00:32:34.180470Z",
     "start_time": "2021-03-29T00:32:34.175380Z"
    }
   },
   "outputs": [
    {
     "name": "stdout",
     "output_type": "stream",
     "text": [
      "Classification Error: 0.40476190476190477\n"
     ]
    }
   ],
   "source": [
    "print(f'Classification Error: {1-mlr.score(X_test, y_test)}')"
   ]
  },
  {
   "cell_type": "markdown",
   "metadata": {},
   "source": [
    "# LDA"
   ]
  },
  {
   "cell_type": "code",
   "execution_count": 228,
   "metadata": {
    "ExecuteTime": {
     "end_time": "2021-03-29T00:35:24.831170Z",
     "start_time": "2021-03-29T00:35:24.816640Z"
    }
   },
   "outputs": [
    {
     "data": {
      "text/plain": [
       "LinearDiscriminantAnalysis()"
      ]
     },
     "execution_count": 228,
     "metadata": {},
     "output_type": "execute_result"
    }
   ],
   "source": [
    "from sklearn.discriminant_analysis import LinearDiscriminantAnalysis\n",
    "\n",
    "lda = LinearDiscriminantAnalysis()\n",
    "lda.fit(X_train, y_train)"
   ]
  },
  {
   "cell_type": "code",
   "execution_count": 231,
   "metadata": {
    "ExecuteTime": {
     "end_time": "2021-03-29T00:36:31.354587Z",
     "start_time": "2021-03-29T00:36:31.348647Z"
    }
   },
   "outputs": [
    {
     "name": "stdout",
     "output_type": "stream",
     "text": [
      "Classification Error: 0.05654761904761907\n"
     ]
    }
   ],
   "source": [
    "print(f'Classification Error: {1-lda.score(X_test, y_test)}')"
   ]
  },
  {
   "cell_type": "code",
   "execution_count": 233,
   "metadata": {
    "ExecuteTime": {
     "end_time": "2021-03-29T00:36:36.233198Z",
     "start_time": "2021-03-29T00:36:36.219934Z"
    }
   },
   "outputs": [
    {
     "data": {
      "text/plain": [
       "LinearDiscriminantAnalysis()"
      ]
     },
     "execution_count": 233,
     "metadata": {},
     "output_type": "execute_result"
    }
   ],
   "source": [
    "from sklearn.discriminant_analysis import LinearDiscriminantAnalysis\n",
    "\n",
    "lda = LinearDiscriminantAnalysis()\n",
    "lda.fit(X_train_norm, y_train)"
   ]
  },
  {
   "cell_type": "code",
   "execution_count": 235,
   "metadata": {
    "ExecuteTime": {
     "end_time": "2021-03-29T00:36:40.095874Z",
     "start_time": "2021-03-29T00:36:40.090166Z"
    }
   },
   "outputs": [
    {
     "name": "stdout",
     "output_type": "stream",
     "text": [
      "Classification Error: 0.05654761904761907\n"
     ]
    }
   ],
   "source": [
    "print(f'Classification Error: {1-lda.score(X_test_norm, y_test)}')"
   ]
  },
  {
   "cell_type": "markdown",
   "metadata": {},
   "source": [
    "# KNN"
   ]
  },
  {
   "cell_type": "markdown",
   "metadata": {},
   "source": [
    "### 5 neighbors"
   ]
  },
  {
   "cell_type": "code",
   "execution_count": 241,
   "metadata": {
    "ExecuteTime": {
     "end_time": "2021-03-29T00:39:16.276610Z",
     "start_time": "2021-03-29T00:39:16.266975Z"
    }
   },
   "outputs": [
    {
     "data": {
      "text/plain": [
       "KNeighborsClassifier()"
      ]
     },
     "execution_count": 241,
     "metadata": {},
     "output_type": "execute_result"
    }
   ],
   "source": [
    "from sklearn.neighbors import KNeighborsClassifier\n",
    "\n",
    "knn = KNeighborsClassifier(n_neighbors=5)\n",
    "knn.fit(X_train_norm, y_train)"
   ]
  },
  {
   "cell_type": "code",
   "execution_count": 242,
   "metadata": {
    "ExecuteTime": {
     "end_time": "2021-03-29T00:39:16.697963Z",
     "start_time": "2021-03-29T00:39:16.676190Z"
    }
   },
   "outputs": [
    {
     "name": "stdout",
     "output_type": "stream",
     "text": [
      "Classification Error: 0.07738095238095233\n"
     ]
    }
   ],
   "source": [
    "print(f'Classification Error: {1-knn.score(X_test_norm, y_test)}')"
   ]
  },
  {
   "cell_type": "code",
   "execution_count": null,
   "metadata": {},
   "outputs": [],
   "source": []
  },
  {
   "cell_type": "code",
   "execution_count": 247,
   "metadata": {
    "ExecuteTime": {
     "end_time": "2021-03-29T00:41:35.069605Z",
     "start_time": "2021-03-29T00:41:35.061483Z"
    }
   },
   "outputs": [
    {
     "data": {
      "text/plain": [
       "KNeighborsClassifier()"
      ]
     },
     "execution_count": 247,
     "metadata": {},
     "output_type": "execute_result"
    }
   ],
   "source": [
    "from sklearn.neighbors import KNeighborsClassifier\n",
    "\n",
    "knn = KNeighborsClassifier(n_neighbors=5)\n",
    "knn.fit(X_train, y_train)"
   ]
  },
  {
   "cell_type": "code",
   "execution_count": 248,
   "metadata": {
    "ExecuteTime": {
     "end_time": "2021-03-29T00:41:35.681722Z",
     "start_time": "2021-03-29T00:41:35.660318Z"
    }
   },
   "outputs": [
    {
     "name": "stdout",
     "output_type": "stream",
     "text": [
      "Classification Error: 0.0803571428571429\n"
     ]
    }
   ],
   "source": [
    "print(f'Classification Error: {1-knn.score(X_test, y_test)}')"
   ]
  },
  {
   "cell_type": "code",
   "execution_count": null,
   "metadata": {},
   "outputs": [],
   "source": []
  },
  {
   "cell_type": "code",
   "execution_count": null,
   "metadata": {},
   "outputs": [],
   "source": []
  },
  {
   "cell_type": "markdown",
   "metadata": {},
   "source": [
    "### 10 neighbors"
   ]
  },
  {
   "cell_type": "code",
   "execution_count": 245,
   "metadata": {
    "ExecuteTime": {
     "end_time": "2021-03-29T00:39:49.932473Z",
     "start_time": "2021-03-29T00:39:49.923211Z"
    }
   },
   "outputs": [
    {
     "data": {
      "text/plain": [
       "KNeighborsClassifier(n_neighbors=10)"
      ]
     },
     "execution_count": 245,
     "metadata": {},
     "output_type": "execute_result"
    }
   ],
   "source": [
    "from sklearn.neighbors import KNeighborsClassifier\n",
    "\n",
    "knn = KNeighborsClassifier(n_neighbors=10)\n",
    "knn.fit(X_train_norm, y_train)"
   ]
  },
  {
   "cell_type": "code",
   "execution_count": 246,
   "metadata": {
    "ExecuteTime": {
     "end_time": "2021-03-29T00:39:51.882043Z",
     "start_time": "2021-03-29T00:39:51.858309Z"
    },
    "scrolled": true
   },
   "outputs": [
    {
     "name": "stdout",
     "output_type": "stream",
     "text": [
      "Classification Error: 0.0714285714285714\n"
     ]
    }
   ],
   "source": [
    "print(f'Classification Error: {1-knn.score(X_test_norm, y_test)}')"
   ]
  },
  {
   "cell_type": "code",
   "execution_count": null,
   "metadata": {},
   "outputs": [],
   "source": []
  },
  {
   "cell_type": "code",
   "execution_count": null,
   "metadata": {},
   "outputs": [],
   "source": []
  },
  {
   "cell_type": "code",
   "execution_count": null,
   "metadata": {},
   "outputs": [],
   "source": []
  }
 ],
 "metadata": {
  "kernelspec": {
   "display_name": "Python 3",
   "language": "python",
   "name": "python3"
  },
  "language_info": {
   "codemirror_mode": {
    "name": "ipython",
    "version": 3
   },
   "file_extension": ".py",
   "mimetype": "text/x-python",
   "name": "python",
   "nbconvert_exporter": "python",
   "pygments_lexer": "ipython3",
   "version": "3.8.3"
  },
  "varInspector": {
   "cols": {
    "lenName": 16,
    "lenType": 16,
    "lenVar": 40
   },
   "kernels_config": {
    "python": {
     "delete_cmd_postfix": "",
     "delete_cmd_prefix": "del ",
     "library": "var_list.py",
     "varRefreshCmd": "print(var_dic_list())"
    },
    "r": {
     "delete_cmd_postfix": ") ",
     "delete_cmd_prefix": "rm(",
     "library": "var_list.r",
     "varRefreshCmd": "cat(var_dic_list()) "
    }
   },
   "types_to_exclude": [
    "module",
    "function",
    "builtin_function_or_method",
    "instance",
    "_Feature"
   ],
   "window_display": false
  }
 },
 "nbformat": 4,
 "nbformat_minor": 4
}
