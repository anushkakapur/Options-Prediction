{
 "cells": [
  {
   "cell_type": "code",
   "execution_count": 439,
   "metadata": {
    "ExecuteTime": {
     "end_time": "2021-03-29T19:23:10.029478Z",
     "start_time": "2021-03-29T19:23:10.026053Z"
    }
   },
   "outputs": [],
   "source": [
    "import pandas as pd\n",
    "import numpy as np"
   ]
  },
  {
   "cell_type": "code",
   "execution_count": 440,
   "metadata": {
    "ExecuteTime": {
     "end_time": "2021-03-29T19:23:10.218166Z",
     "start_time": "2021-03-29T19:23:10.209305Z"
    }
   },
   "outputs": [],
   "source": [
    "train = pd.read_csv('option_train.csv')\n",
    "test = pd.read_csv('option_test_wolabel.csv')"
   ]
  },
  {
   "cell_type": "code",
   "execution_count": 441,
   "metadata": {
    "ExecuteTime": {
     "end_time": "2021-03-29T19:23:10.391251Z",
     "start_time": "2021-03-29T19:23:10.386491Z"
    }
   },
   "outputs": [],
   "source": [
    "train = train.replace({'BS': {'Under':0, 'Over':1}})"
   ]
  },
  {
   "cell_type": "code",
   "execution_count": 442,
   "metadata": {
    "ExecuteTime": {
     "end_time": "2021-03-29T19:23:10.581226Z",
     "start_time": "2021-03-29T19:23:10.572793Z"
    }
   },
   "outputs": [
    {
     "data": {
      "text/html": [
       "<div>\n",
       "<style scoped>\n",
       "    .dataframe tbody tr th:only-of-type {\n",
       "        vertical-align: middle;\n",
       "    }\n",
       "\n",
       "    .dataframe tbody tr th {\n",
       "        vertical-align: top;\n",
       "    }\n",
       "\n",
       "    .dataframe thead th {\n",
       "        text-align: right;\n",
       "    }\n",
       "</style>\n",
       "<table border=\"1\" class=\"dataframe\">\n",
       "  <thead>\n",
       "    <tr style=\"text-align: right;\">\n",
       "      <th></th>\n",
       "      <th>Value</th>\n",
       "      <th>S</th>\n",
       "      <th>K</th>\n",
       "      <th>tau</th>\n",
       "      <th>r</th>\n",
       "      <th>BS</th>\n",
       "    </tr>\n",
       "  </thead>\n",
       "  <tbody>\n",
       "    <tr>\n",
       "      <th>0</th>\n",
       "      <td>21.670404</td>\n",
       "      <td>431.623898</td>\n",
       "      <td>420</td>\n",
       "      <td>0.341270</td>\n",
       "      <td>0.03013</td>\n",
       "      <td>0</td>\n",
       "    </tr>\n",
       "    <tr>\n",
       "      <th>1</th>\n",
       "      <td>0.125000</td>\n",
       "      <td>427.015526</td>\n",
       "      <td>465</td>\n",
       "      <td>0.166667</td>\n",
       "      <td>0.03126</td>\n",
       "      <td>1</td>\n",
       "    </tr>\n",
       "    <tr>\n",
       "      <th>2</th>\n",
       "      <td>20.691244</td>\n",
       "      <td>427.762336</td>\n",
       "      <td>415</td>\n",
       "      <td>0.265873</td>\n",
       "      <td>0.03116</td>\n",
       "      <td>0</td>\n",
       "    </tr>\n",
       "    <tr>\n",
       "      <th>3</th>\n",
       "      <td>1.035002</td>\n",
       "      <td>451.711658</td>\n",
       "      <td>460</td>\n",
       "      <td>0.063492</td>\n",
       "      <td>0.02972</td>\n",
       "      <td>1</td>\n",
       "    </tr>\n",
       "    <tr>\n",
       "      <th>4</th>\n",
       "      <td>39.553020</td>\n",
       "      <td>446.718974</td>\n",
       "      <td>410</td>\n",
       "      <td>0.166667</td>\n",
       "      <td>0.02962</td>\n",
       "      <td>0</td>\n",
       "    </tr>\n",
       "  </tbody>\n",
       "</table>\n",
       "</div>"
      ],
      "text/plain": [
       "       Value           S    K       tau        r  BS\n",
       "0  21.670404  431.623898  420  0.341270  0.03013   0\n",
       "1   0.125000  427.015526  465  0.166667  0.03126   1\n",
       "2  20.691244  427.762336  415  0.265873  0.03116   0\n",
       "3   1.035002  451.711658  460  0.063492  0.02972   1\n",
       "4  39.553020  446.718974  410  0.166667  0.02962   0"
      ]
     },
     "execution_count": 442,
     "metadata": {},
     "output_type": "execute_result"
    }
   ],
   "source": [
    "train.head()"
   ]
  },
  {
   "cell_type": "code",
   "execution_count": 443,
   "metadata": {
    "ExecuteTime": {
     "end_time": "2021-03-29T19:23:10.749206Z",
     "start_time": "2021-03-29T19:23:10.746297Z"
    }
   },
   "outputs": [
    {
     "data": {
      "text/plain": [
       "(1680, 6)"
      ]
     },
     "execution_count": 443,
     "metadata": {},
     "output_type": "execute_result"
    }
   ],
   "source": [
    "train.shape"
   ]
  },
  {
   "cell_type": "code",
   "execution_count": 444,
   "metadata": {
    "ExecuteTime": {
     "end_time": "2021-03-29T19:23:11.084431Z",
     "start_time": "2021-03-29T19:23:11.056839Z"
    }
   },
   "outputs": [
    {
     "data": {
      "text/html": [
       "<div>\n",
       "<style scoped>\n",
       "    .dataframe tbody tr th:only-of-type {\n",
       "        vertical-align: middle;\n",
       "    }\n",
       "\n",
       "    .dataframe tbody tr th {\n",
       "        vertical-align: top;\n",
       "    }\n",
       "\n",
       "    .dataframe thead th {\n",
       "        text-align: right;\n",
       "    }\n",
       "</style>\n",
       "<table border=\"1\" class=\"dataframe\">\n",
       "  <thead>\n",
       "    <tr style=\"text-align: right;\">\n",
       "      <th></th>\n",
       "      <th>Value</th>\n",
       "      <th>S</th>\n",
       "      <th>K</th>\n",
       "      <th>tau</th>\n",
       "      <th>r</th>\n",
       "      <th>BS</th>\n",
       "    </tr>\n",
       "  </thead>\n",
       "  <tbody>\n",
       "    <tr>\n",
       "      <th>count</th>\n",
       "      <td>1680.000000</td>\n",
       "      <td>1680.000000</td>\n",
       "      <td>1680.000000</td>\n",
       "      <td>1680.000000</td>\n",
       "      <td>1680.000000</td>\n",
       "      <td>1680.000000</td>\n",
       "    </tr>\n",
       "    <tr>\n",
       "      <th>mean</th>\n",
       "      <td>15.064384</td>\n",
       "      <td>440.901494</td>\n",
       "      <td>438.247024</td>\n",
       "      <td>0.201930</td>\n",
       "      <td>0.030235</td>\n",
       "      <td>0.436905</td>\n",
       "    </tr>\n",
       "    <tr>\n",
       "      <th>std</th>\n",
       "      <td>14.035795</td>\n",
       "      <td>7.527497</td>\n",
       "      <td>23.396936</td>\n",
       "      <td>0.099712</td>\n",
       "      <td>0.000557</td>\n",
       "      <td>0.496151</td>\n",
       "    </tr>\n",
       "    <tr>\n",
       "      <th>min</th>\n",
       "      <td>0.125000</td>\n",
       "      <td>425.472331</td>\n",
       "      <td>375.000000</td>\n",
       "      <td>0.003968</td>\n",
       "      <td>0.029510</td>\n",
       "      <td>0.000000</td>\n",
       "    </tr>\n",
       "    <tr>\n",
       "      <th>25%</th>\n",
       "      <td>2.255001</td>\n",
       "      <td>433.863864</td>\n",
       "      <td>420.000000</td>\n",
       "      <td>0.119048</td>\n",
       "      <td>0.029820</td>\n",
       "      <td>0.000000</td>\n",
       "    </tr>\n",
       "    <tr>\n",
       "      <th>50%</th>\n",
       "      <td>11.190967</td>\n",
       "      <td>442.579723</td>\n",
       "      <td>440.000000</td>\n",
       "      <td>0.202381</td>\n",
       "      <td>0.030130</td>\n",
       "      <td>0.000000</td>\n",
       "    </tr>\n",
       "    <tr>\n",
       "      <th>75%</th>\n",
       "      <td>25.744375</td>\n",
       "      <td>447.320414</td>\n",
       "      <td>455.000000</td>\n",
       "      <td>0.285714</td>\n",
       "      <td>0.030540</td>\n",
       "      <td>1.000000</td>\n",
       "    </tr>\n",
       "    <tr>\n",
       "      <th>max</th>\n",
       "      <td>60.149367</td>\n",
       "      <td>455.880619</td>\n",
       "      <td>500.000000</td>\n",
       "      <td>0.392857</td>\n",
       "      <td>0.031880</td>\n",
       "      <td>1.000000</td>\n",
       "    </tr>\n",
       "  </tbody>\n",
       "</table>\n",
       "</div>"
      ],
      "text/plain": [
       "             Value            S            K          tau            r  \\\n",
       "count  1680.000000  1680.000000  1680.000000  1680.000000  1680.000000   \n",
       "mean     15.064384   440.901494   438.247024     0.201930     0.030235   \n",
       "std      14.035795     7.527497    23.396936     0.099712     0.000557   \n",
       "min       0.125000   425.472331   375.000000     0.003968     0.029510   \n",
       "25%       2.255001   433.863864   420.000000     0.119048     0.029820   \n",
       "50%      11.190967   442.579723   440.000000     0.202381     0.030130   \n",
       "75%      25.744375   447.320414   455.000000     0.285714     0.030540   \n",
       "max      60.149367   455.880619   500.000000     0.392857     0.031880   \n",
       "\n",
       "                BS  \n",
       "count  1680.000000  \n",
       "mean      0.436905  \n",
       "std       0.496151  \n",
       "min       0.000000  \n",
       "25%       0.000000  \n",
       "50%       0.000000  \n",
       "75%       1.000000  \n",
       "max       1.000000  "
      ]
     },
     "execution_count": 444,
     "metadata": {},
     "output_type": "execute_result"
    }
   ],
   "source": [
    "train.describe()"
   ]
  },
  {
   "cell_type": "markdown",
   "metadata": {},
   "source": [
    "# Creating Variables"
   ]
  },
  {
   "cell_type": "code",
   "execution_count": 445,
   "metadata": {
    "ExecuteTime": {
     "end_time": "2021-03-29T19:23:11.469670Z",
     "start_time": "2021-03-29T19:23:11.464227Z"
    }
   },
   "outputs": [],
   "source": [
    "new = train.copy()\n",
    "new = new.drop(['BS'], axis=1)"
   ]
  },
  {
   "cell_type": "code",
   "execution_count": 446,
   "metadata": {
    "ExecuteTime": {
     "end_time": "2021-03-29T19:23:11.632426Z",
     "start_time": "2021-03-29T19:23:11.629929Z"
    }
   },
   "outputs": [],
   "source": [
    "col = list(new.columns)\n",
    "col_r = col[::-1]"
   ]
  },
  {
   "cell_type": "code",
   "execution_count": 447,
   "metadata": {
    "ExecuteTime": {
     "end_time": "2021-03-29T19:23:11.794160Z",
     "start_time": "2021-03-29T19:23:11.778693Z"
    }
   },
   "outputs": [],
   "source": [
    "for i in new.columns:\n",
    "    for j in col_r:\n",
    "        if i==j:\n",
    "            col_r.remove(i)\n",
    "        else:\n",
    "            new[i+'_times_'+j] = new[i]*new[j]\n",
    "            new[i+'_by_'+j] = new[i]/new[j]"
   ]
  },
  {
   "cell_type": "code",
   "execution_count": 448,
   "metadata": {
    "ExecuteTime": {
     "end_time": "2021-03-29T19:23:11.938572Z",
     "start_time": "2021-03-29T19:23:11.933049Z"
    }
   },
   "outputs": [],
   "source": [
    "new = new.replace([np.inf, -np.inf], np.nan)"
   ]
  },
  {
   "cell_type": "code",
   "execution_count": 449,
   "metadata": {
    "ExecuteTime": {
     "end_time": "2021-03-29T19:23:12.570260Z",
     "start_time": "2021-03-29T19:23:12.546013Z"
    },
    "scrolled": true
   },
   "outputs": [
    {
     "data": {
      "text/html": [
       "<div>\n",
       "<style scoped>\n",
       "    .dataframe tbody tr th:only-of-type {\n",
       "        vertical-align: middle;\n",
       "    }\n",
       "\n",
       "    .dataframe tbody tr th {\n",
       "        vertical-align: top;\n",
       "    }\n",
       "\n",
       "    .dataframe thead th {\n",
       "        text-align: right;\n",
       "    }\n",
       "</style>\n",
       "<table border=\"1\" class=\"dataframe\">\n",
       "  <thead>\n",
       "    <tr style=\"text-align: right;\">\n",
       "      <th></th>\n",
       "      <th>Value</th>\n",
       "      <th>S</th>\n",
       "      <th>K</th>\n",
       "      <th>tau</th>\n",
       "      <th>r</th>\n",
       "      <th>Value_times_r</th>\n",
       "      <th>Value_by_r</th>\n",
       "      <th>Value_times_tau</th>\n",
       "      <th>Value_by_tau</th>\n",
       "      <th>Value_times_K</th>\n",
       "      <th>...</th>\n",
       "      <th>S_times_tau</th>\n",
       "      <th>S_by_tau</th>\n",
       "      <th>S_times_K</th>\n",
       "      <th>S_by_K</th>\n",
       "      <th>K_times_r</th>\n",
       "      <th>K_by_r</th>\n",
       "      <th>K_times_tau</th>\n",
       "      <th>K_by_tau</th>\n",
       "      <th>tau_times_r</th>\n",
       "      <th>tau_by_r</th>\n",
       "    </tr>\n",
       "  </thead>\n",
       "  <tbody>\n",
       "    <tr>\n",
       "      <th>0</th>\n",
       "      <td>21.670404</td>\n",
       "      <td>431.623898</td>\n",
       "      <td>420</td>\n",
       "      <td>0.341270</td>\n",
       "      <td>0.03013</td>\n",
       "      <td>0.652929</td>\n",
       "      <td>719.230152</td>\n",
       "      <td>7.395455</td>\n",
       "      <td>63.499325</td>\n",
       "      <td>9101.569877</td>\n",
       "      <td>...</td>\n",
       "      <td>147.300219</td>\n",
       "      <td>1264.758401</td>\n",
       "      <td>181282.037286</td>\n",
       "      <td>1.027676</td>\n",
       "      <td>12.6546</td>\n",
       "      <td>13939.595088</td>\n",
       "      <td>143.333333</td>\n",
       "      <td>1230.697675</td>\n",
       "      <td>0.010282</td>\n",
       "      <td>11.326580</td>\n",
       "    </tr>\n",
       "    <tr>\n",
       "      <th>1</th>\n",
       "      <td>0.125000</td>\n",
       "      <td>427.015526</td>\n",
       "      <td>465</td>\n",
       "      <td>0.166667</td>\n",
       "      <td>0.03126</td>\n",
       "      <td>0.003908</td>\n",
       "      <td>3.998720</td>\n",
       "      <td>0.020833</td>\n",
       "      <td>0.750000</td>\n",
       "      <td>58.125001</td>\n",
       "      <td>...</td>\n",
       "      <td>71.169254</td>\n",
       "      <td>2562.093150</td>\n",
       "      <td>198562.219543</td>\n",
       "      <td>0.918313</td>\n",
       "      <td>14.5359</td>\n",
       "      <td>14875.239923</td>\n",
       "      <td>77.500000</td>\n",
       "      <td>2789.999994</td>\n",
       "      <td>0.005210</td>\n",
       "      <td>5.331627</td>\n",
       "    </tr>\n",
       "    <tr>\n",
       "      <th>2</th>\n",
       "      <td>20.691244</td>\n",
       "      <td>427.762336</td>\n",
       "      <td>415</td>\n",
       "      <td>0.265873</td>\n",
       "      <td>0.03116</td>\n",
       "      <td>0.644739</td>\n",
       "      <td>664.032230</td>\n",
       "      <td>5.501244</td>\n",
       "      <td>77.823784</td>\n",
       "      <td>8586.866380</td>\n",
       "      <td>...</td>\n",
       "      <td>113.730463</td>\n",
       "      <td>1608.897145</td>\n",
       "      <td>177521.369606</td>\n",
       "      <td>1.030753</td>\n",
       "      <td>12.9314</td>\n",
       "      <td>13318.356868</td>\n",
       "      <td>110.337302</td>\n",
       "      <td>1560.895522</td>\n",
       "      <td>0.008285</td>\n",
       "      <td>8.532510</td>\n",
       "    </tr>\n",
       "    <tr>\n",
       "      <th>3</th>\n",
       "      <td>1.035002</td>\n",
       "      <td>451.711658</td>\n",
       "      <td>460</td>\n",
       "      <td>0.063492</td>\n",
       "      <td>0.02972</td>\n",
       "      <td>0.030760</td>\n",
       "      <td>34.825101</td>\n",
       "      <td>0.065714</td>\n",
       "      <td>16.301282</td>\n",
       "      <td>476.100926</td>\n",
       "      <td>...</td>\n",
       "      <td>28.680105</td>\n",
       "      <td>7114.458665</td>\n",
       "      <td>207787.362588</td>\n",
       "      <td>0.981982</td>\n",
       "      <td>13.6712</td>\n",
       "      <td>15477.792732</td>\n",
       "      <td>29.206349</td>\n",
       "      <td>7245.000056</td>\n",
       "      <td>0.001887</td>\n",
       "      <td>2.136341</td>\n",
       "    </tr>\n",
       "    <tr>\n",
       "      <th>4</th>\n",
       "      <td>39.553020</td>\n",
       "      <td>446.718974</td>\n",
       "      <td>410</td>\n",
       "      <td>0.166667</td>\n",
       "      <td>0.02962</td>\n",
       "      <td>1.171560</td>\n",
       "      <td>1335.348412</td>\n",
       "      <td>6.592170</td>\n",
       "      <td>237.318119</td>\n",
       "      <td>16216.738180</td>\n",
       "      <td>...</td>\n",
       "      <td>74.453163</td>\n",
       "      <td>2680.313841</td>\n",
       "      <td>183154.779504</td>\n",
       "      <td>1.089558</td>\n",
       "      <td>12.1442</td>\n",
       "      <td>13841.998650</td>\n",
       "      <td>68.333333</td>\n",
       "      <td>2459.999995</td>\n",
       "      <td>0.004937</td>\n",
       "      <td>5.626829</td>\n",
       "    </tr>\n",
       "  </tbody>\n",
       "</table>\n",
       "<p>5 rows × 25 columns</p>\n",
       "</div>"
      ],
      "text/plain": [
       "       Value           S    K       tau        r  Value_times_r   Value_by_r  \\\n",
       "0  21.670404  431.623898  420  0.341270  0.03013       0.652929   719.230152   \n",
       "1   0.125000  427.015526  465  0.166667  0.03126       0.003908     3.998720   \n",
       "2  20.691244  427.762336  415  0.265873  0.03116       0.644739   664.032230   \n",
       "3   1.035002  451.711658  460  0.063492  0.02972       0.030760    34.825101   \n",
       "4  39.553020  446.718974  410  0.166667  0.02962       1.171560  1335.348412   \n",
       "\n",
       "   Value_times_tau  Value_by_tau  Value_times_K  ...  S_times_tau  \\\n",
       "0         7.395455     63.499325    9101.569877  ...   147.300219   \n",
       "1         0.020833      0.750000      58.125001  ...    71.169254   \n",
       "2         5.501244     77.823784    8586.866380  ...   113.730463   \n",
       "3         0.065714     16.301282     476.100926  ...    28.680105   \n",
       "4         6.592170    237.318119   16216.738180  ...    74.453163   \n",
       "\n",
       "      S_by_tau      S_times_K    S_by_K  K_times_r        K_by_r  K_times_tau  \\\n",
       "0  1264.758401  181282.037286  1.027676    12.6546  13939.595088   143.333333   \n",
       "1  2562.093150  198562.219543  0.918313    14.5359  14875.239923    77.500000   \n",
       "2  1608.897145  177521.369606  1.030753    12.9314  13318.356868   110.337302   \n",
       "3  7114.458665  207787.362588  0.981982    13.6712  15477.792732    29.206349   \n",
       "4  2680.313841  183154.779504  1.089558    12.1442  13841.998650    68.333333   \n",
       "\n",
       "      K_by_tau  tau_times_r   tau_by_r  \n",
       "0  1230.697675     0.010282  11.326580  \n",
       "1  2789.999994     0.005210   5.331627  \n",
       "2  1560.895522     0.008285   8.532510  \n",
       "3  7245.000056     0.001887   2.136341  \n",
       "4  2459.999995     0.004937   5.626829  \n",
       "\n",
       "[5 rows x 25 columns]"
      ]
     },
     "execution_count": 449,
     "metadata": {},
     "output_type": "execute_result"
    }
   ],
   "source": [
    "new.head()"
   ]
  },
  {
   "cell_type": "markdown",
   "metadata": {},
   "source": [
    "# Model"
   ]
  },
  {
   "cell_type": "markdown",
   "metadata": {},
   "source": [
    "## Feature Selection"
   ]
  },
  {
   "cell_type": "code",
   "execution_count": null,
   "metadata": {},
   "outputs": [],
   "source": [
    "# may need to try out other methods for feature selection"
   ]
  },
  {
   "cell_type": "code",
   "execution_count": 494,
   "metadata": {
    "ExecuteTime": {
     "end_time": "2021-03-29T19:42:17.817437Z",
     "start_time": "2021-03-29T19:42:17.813372Z"
    }
   },
   "outputs": [],
   "source": [
    "train_final = new.copy()"
   ]
  },
  {
   "cell_type": "code",
   "execution_count": 495,
   "metadata": {
    "ExecuteTime": {
     "end_time": "2021-03-29T19:42:18.266807Z",
     "start_time": "2021-03-29T19:42:18.263979Z"
    }
   },
   "outputs": [],
   "source": [
    "X = train_final\n",
    "y = train['BS']"
   ]
  },
  {
   "cell_type": "code",
   "execution_count": 496,
   "metadata": {
    "ExecuteTime": {
     "end_time": "2021-03-29T19:42:20.342664Z",
     "start_time": "2021-03-29T19:42:19.983374Z"
    }
   },
   "outputs": [
    {
     "data": {
      "text/plain": [
       "RFE(estimator=LogisticRegression(max_iter=1700, penalty='none'),\n",
       "    n_features_to_select=20)"
      ]
     },
     "execution_count": 496,
     "metadata": {},
     "output_type": "execute_result"
    }
   ],
   "source": [
    "from sklearn.feature_selection import RFE\n",
    "from sklearn.linear_model import LogisticRegression\n",
    "model = LogisticRegression(max_iter=1700, penalty='none')\n",
    "rfe = RFE(model, n_features_to_select=20)\n",
    "rfe.fit(X,y)"
   ]
  },
  {
   "cell_type": "code",
   "execution_count": 497,
   "metadata": {
    "ExecuteTime": {
     "end_time": "2021-03-29T19:42:21.145868Z",
     "start_time": "2021-03-29T19:42:21.137286Z"
    }
   },
   "outputs": [
    {
     "name": "stdout",
     "output_type": "stream",
     "text": [
      "    ranking         variable\n",
      "0         1                K\n",
      "1         1           K_by_r\n",
      "2         1         K_by_tau\n",
      "3         1        K_times_r\n",
      "4         1      K_times_tau\n",
      "5         1                S\n",
      "6         1           S_by_K\n",
      "7         1           S_by_r\n",
      "8         1         S_by_tau\n",
      "9         1        S_times_K\n",
      "10        1        S_times_r\n",
      "11        1      S_times_tau\n",
      "12        1            Value\n",
      "13        1       Value_by_r\n",
      "14        1     Value_by_tau\n",
      "15        1    Value_times_K\n",
      "16        1    Value_times_S\n",
      "17        1  Value_times_tau\n",
      "18        1              tau\n",
      "19        1         tau_by_r\n",
      "20        2    Value_times_r\n",
      "21        3      tau_times_r\n",
      "22        4                r\n",
      "23        5       Value_by_S\n",
      "24        6       Value_by_K\n"
     ]
    }
   ],
   "source": [
    "var_selected = pd.DataFrame(sorted(zip(map(lambda x: round(x), rfe.ranking_), X.columns)),\n",
    "                           columns = ['ranking','variable'])\n",
    "print(var_selected)"
   ]
  },
  {
   "cell_type": "code",
   "execution_count": 498,
   "metadata": {
    "ExecuteTime": {
     "end_time": "2021-03-29T19:42:22.036821Z",
     "start_time": "2021-03-29T19:42:22.031029Z"
    }
   },
   "outputs": [],
   "source": [
    "rfe_selected = train_final[var_selected.head(10)['variable'].values]"
   ]
  },
  {
   "cell_type": "markdown",
   "metadata": {},
   "source": [
    "## Cross Validation"
   ]
  },
  {
   "cell_type": "code",
   "execution_count": 451,
   "metadata": {
    "ExecuteTime": {
     "end_time": "2021-03-29T19:23:14.353537Z",
     "start_time": "2021-03-29T19:23:14.349384Z"
    }
   },
   "outputs": [],
   "source": [
    "train_final = new.copy()"
   ]
  },
  {
   "cell_type": "code",
   "execution_count": 452,
   "metadata": {
    "ExecuteTime": {
     "end_time": "2021-03-29T19:23:14.681842Z",
     "start_time": "2021-03-29T19:23:14.665484Z"
    }
   },
   "outputs": [
    {
     "data": {
      "text/html": [
       "<div>\n",
       "<style scoped>\n",
       "    .dataframe tbody tr th:only-of-type {\n",
       "        vertical-align: middle;\n",
       "    }\n",
       "\n",
       "    .dataframe tbody tr th {\n",
       "        vertical-align: top;\n",
       "    }\n",
       "\n",
       "    .dataframe thead th {\n",
       "        text-align: right;\n",
       "    }\n",
       "</style>\n",
       "<table border=\"1\" class=\"dataframe\">\n",
       "  <thead>\n",
       "    <tr style=\"text-align: right;\">\n",
       "      <th></th>\n",
       "      <th>Value</th>\n",
       "      <th>S</th>\n",
       "      <th>K</th>\n",
       "      <th>tau</th>\n",
       "      <th>r</th>\n",
       "    </tr>\n",
       "  </thead>\n",
       "  <tbody>\n",
       "    <tr>\n",
       "      <th>0</th>\n",
       "      <td>21.670404</td>\n",
       "      <td>431.623898</td>\n",
       "      <td>420</td>\n",
       "      <td>0.341270</td>\n",
       "      <td>0.03013</td>\n",
       "    </tr>\n",
       "    <tr>\n",
       "      <th>1</th>\n",
       "      <td>0.125000</td>\n",
       "      <td>427.015526</td>\n",
       "      <td>465</td>\n",
       "      <td>0.166667</td>\n",
       "      <td>0.03126</td>\n",
       "    </tr>\n",
       "    <tr>\n",
       "      <th>2</th>\n",
       "      <td>20.691244</td>\n",
       "      <td>427.762336</td>\n",
       "      <td>415</td>\n",
       "      <td>0.265873</td>\n",
       "      <td>0.03116</td>\n",
       "    </tr>\n",
       "    <tr>\n",
       "      <th>3</th>\n",
       "      <td>1.035002</td>\n",
       "      <td>451.711658</td>\n",
       "      <td>460</td>\n",
       "      <td>0.063492</td>\n",
       "      <td>0.02972</td>\n",
       "    </tr>\n",
       "    <tr>\n",
       "      <th>4</th>\n",
       "      <td>39.553020</td>\n",
       "      <td>446.718974</td>\n",
       "      <td>410</td>\n",
       "      <td>0.166667</td>\n",
       "      <td>0.02962</td>\n",
       "    </tr>\n",
       "    <tr>\n",
       "      <th>...</th>\n",
       "      <td>...</td>\n",
       "      <td>...</td>\n",
       "      <td>...</td>\n",
       "      <td>...</td>\n",
       "      <td>...</td>\n",
       "    </tr>\n",
       "    <tr>\n",
       "      <th>1675</th>\n",
       "      <td>1.470000</td>\n",
       "      <td>444.397163</td>\n",
       "      <td>475</td>\n",
       "      <td>0.273810</td>\n",
       "      <td>0.03034</td>\n",
       "    </tr>\n",
       "    <tr>\n",
       "      <th>1676</th>\n",
       "      <td>34.927317</td>\n",
       "      <td>438.453825</td>\n",
       "      <td>410</td>\n",
       "      <td>0.301587</td>\n",
       "      <td>0.02972</td>\n",
       "    </tr>\n",
       "    <tr>\n",
       "      <th>1677</th>\n",
       "      <td>41.127997</td>\n",
       "      <td>428.042219</td>\n",
       "      <td>390</td>\n",
       "      <td>0.170635</td>\n",
       "      <td>0.03188</td>\n",
       "    </tr>\n",
       "    <tr>\n",
       "      <th>1678</th>\n",
       "      <td>0.440003</td>\n",
       "      <td>439.081203</td>\n",
       "      <td>480</td>\n",
       "      <td>0.293651</td>\n",
       "      <td>0.02962</td>\n",
       "    </tr>\n",
       "    <tr>\n",
       "      <th>1679</th>\n",
       "      <td>0.410002</td>\n",
       "      <td>432.167692</td>\n",
       "      <td>465</td>\n",
       "      <td>0.218254</td>\n",
       "      <td>0.02993</td>\n",
       "    </tr>\n",
       "  </tbody>\n",
       "</table>\n",
       "<p>1680 rows × 5 columns</p>\n",
       "</div>"
      ],
      "text/plain": [
       "          Value           S    K       tau        r\n",
       "0     21.670404  431.623898  420  0.341270  0.03013\n",
       "1      0.125000  427.015526  465  0.166667  0.03126\n",
       "2     20.691244  427.762336  415  0.265873  0.03116\n",
       "3      1.035002  451.711658  460  0.063492  0.02972\n",
       "4     39.553020  446.718974  410  0.166667  0.02962\n",
       "...         ...         ...  ...       ...      ...\n",
       "1675   1.470000  444.397163  475  0.273810  0.03034\n",
       "1676  34.927317  438.453825  410  0.301587  0.02972\n",
       "1677  41.127997  428.042219  390  0.170635  0.03188\n",
       "1678   0.440003  439.081203  480  0.293651  0.02962\n",
       "1679   0.410002  432.167692  465  0.218254  0.02993\n",
       "\n",
       "[1680 rows x 5 columns]"
      ]
     },
     "execution_count": 452,
     "metadata": {},
     "output_type": "execute_result"
    }
   ],
   "source": [
    "train_final.iloc[:,:5]"
   ]
  },
  {
   "cell_type": "code",
   "execution_count": 453,
   "metadata": {
    "ExecuteTime": {
     "end_time": "2021-03-29T19:23:15.052967Z",
     "start_time": "2021-03-29T19:23:15.048695Z"
    }
   },
   "outputs": [],
   "source": [
    "X = train_final.values\n",
    "y = train['BS'].values"
   ]
  },
  {
   "cell_type": "code",
   "execution_count": 454,
   "metadata": {
    "ExecuteTime": {
     "end_time": "2021-03-29T19:23:15.474044Z",
     "start_time": "2021-03-29T19:23:15.470366Z"
    }
   },
   "outputs": [],
   "source": [
    "from sklearn.model_selection import StratifiedKFold \n",
    "\n",
    "kfolds = StratifiedKFold(n_splits = 10, random_state = 1, shuffle = True)"
   ]
  },
  {
   "cell_type": "code",
   "execution_count": 499,
   "metadata": {
    "ExecuteTime": {
     "end_time": "2021-03-29T19:43:13.441545Z",
     "start_time": "2021-03-29T19:43:12.287337Z"
    }
   },
   "outputs": [
    {
     "name": "stdout",
     "output_type": "stream",
     "text": [
      "Logisgic Regression: \n",
      "\n",
      "accuracies of 10-folds: [0.95238095 0.95833333 0.92261905 0.9702381  0.96428571 0.91071429\n",
      " 0.95833333 0.93452381 0.9047619  0.95238095] (mean classification error: 0.05714285714285716 )\n",
      "accuracies of 10-folds: [0.92261905 0.94642857 0.89285714 0.94642857 0.92857143 0.91071429\n",
      " 0.94047619 0.9047619  0.88690476 0.93452381] (mean classification error: 0.07857142857142851 )\n",
      "accuracies of 10-folds: [0.91071429 0.93452381 0.9047619  0.93452381 0.92261905 0.9047619\n",
      " 0.93452381 0.92857143 0.88095238 0.91071429] (mean classification error: 0.08333333333333326 )\n"
     ]
    }
   ],
   "source": [
    "from sklearn.linear_model import LogisticRegression\n",
    "from sklearn.model_selection import cross_val_score\n",
    "\n",
    "logistic_model = LogisticRegression(penalty='none', max_iter = 10000)\n",
    "error_model_1_cv = cross_val_score(logistic_model,X,y, cv=kfolds, scoring = 'accuracy')\n",
    "error_model_2_cv = cross_val_score(logistic_model,train_final.iloc[:,:5].values, y, cv=kfolds,scoring='accuracy')\n",
    "error_model_3_cv = cross_val_score(logistic_model,rfe_selected, y, cv=kfolds,scoring='accuracy')\n",
    "print(\"Logisgic Regression: \\n\")\n",
    "print(\"accuracies of 10-folds:\",error_model_1_cv,\"(mean classification error:\",1-np.mean(error_model_1_cv),\")\")\n",
    "print(\"accuracies of 10-folds:\",error_model_2_cv,\"(mean classification error:\",1-np.mean(error_model_2_cv),\")\")\n",
    "print(\"accuracies of 10-folds:\",error_model_3_cv,\"(mean classification error:\",1-np.mean(error_model_3_cv),\")\")"
   ]
  },
  {
   "cell_type": "code",
   "execution_count": 500,
   "metadata": {
    "ExecuteTime": {
     "end_time": "2021-03-29T19:44:01.348626Z",
     "start_time": "2021-03-29T19:44:01.345280Z"
    }
   },
   "outputs": [],
   "source": [
    "#The model with all the features seems to perform the best with mean class error at .057"
   ]
  },
  {
   "cell_type": "markdown",
   "metadata": {},
   "source": [
    "## Modeling with all variables"
   ]
  },
  {
   "cell_type": "code",
   "execution_count": 501,
   "metadata": {
    "ExecuteTime": {
     "end_time": "2021-03-29T19:49:08.731151Z",
     "start_time": "2021-03-29T19:49:08.727416Z"
    }
   },
   "outputs": [],
   "source": [
    "from sklearn.model_selection import train_test_split\n",
    "from sklearn.preprocessing import MinMaxScaler"
   ]
  },
  {
   "cell_type": "code",
   "execution_count": 502,
   "metadata": {
    "ExecuteTime": {
     "end_time": "2021-03-29T19:49:09.076015Z",
     "start_time": "2021-03-29T19:49:09.072655Z"
    }
   },
   "outputs": [],
   "source": [
    "X = train_final.values\n",
    "y = train['BS'].values"
   ]
  },
  {
   "cell_type": "code",
   "execution_count": 503,
   "metadata": {
    "ExecuteTime": {
     "end_time": "2021-03-29T19:49:09.356692Z",
     "start_time": "2021-03-29T19:49:09.352019Z"
    }
   },
   "outputs": [],
   "source": [
    "X_train, X_test, y_train, y_test = train_test_split(X,y,test_size=0.20,random_state = 1)"
   ]
  },
  {
   "cell_type": "code",
   "execution_count": 504,
   "metadata": {
    "ExecuteTime": {
     "end_time": "2021-03-29T19:49:09.614296Z",
     "start_time": "2021-03-29T19:49:09.609742Z"
    }
   },
   "outputs": [],
   "source": [
    "mms = MinMaxScaler()\n",
    "X_train_norm = mms.fit_transform(X_train)\n",
    "X_test_norm = mms.transform(X_test)"
   ]
  },
  {
   "cell_type": "markdown",
   "metadata": {
    "heading_collapsed": true
   },
   "source": [
    "# Logistic Regression"
   ]
  },
  {
   "cell_type": "code",
   "execution_count": 505,
   "metadata": {
    "ExecuteTime": {
     "end_time": "2021-03-29T19:49:10.603934Z",
     "start_time": "2021-03-29T19:49:10.535046Z"
    },
    "hidden": true
   },
   "outputs": [],
   "source": [
    "from sklearn.linear_model import LogisticRegression\n",
    "mlr = LogisticRegression(penalty='none', max_iter=1700).fit(X_train, y_train)"
   ]
  },
  {
   "cell_type": "code",
   "execution_count": 506,
   "metadata": {
    "ExecuteTime": {
     "end_time": "2021-03-29T19:49:11.007118Z",
     "start_time": "2021-03-29T19:49:11.002781Z"
    },
    "hidden": true
   },
   "outputs": [
    {
     "name": "stdout",
     "output_type": "stream",
     "text": [
      "Classification Error: 0.05654761904761907\n"
     ]
    }
   ],
   "source": [
    "print(f'Classification Error: {1-mlr.score(X_test, y_test)}')"
   ]
  },
  {
   "cell_type": "code",
   "execution_count": 507,
   "metadata": {
    "ExecuteTime": {
     "end_time": "2021-03-29T19:49:12.131135Z",
     "start_time": "2021-03-29T19:49:11.697826Z"
    },
    "hidden": true
   },
   "outputs": [
    {
     "name": "stderr",
     "output_type": "stream",
     "text": [
      "/Users/anushkakapur/opt/anaconda3/lib/python3.8/site-packages/sklearn/linear_model/_logistic.py:762: ConvergenceWarning: lbfgs failed to converge (status=1):\n",
      "STOP: TOTAL NO. of ITERATIONS REACHED LIMIT.\n",
      "\n",
      "Increase the number of iterations (max_iter) or scale the data as shown in:\n",
      "    https://scikit-learn.org/stable/modules/preprocessing.html\n",
      "Please also refer to the documentation for alternative solver options:\n",
      "    https://scikit-learn.org/stable/modules/linear_model.html#logistic-regression\n",
      "  n_iter_i = _check_optimize_result(\n"
     ]
    }
   ],
   "source": [
    "#not sure why im getting the warning for the normalized x\n",
    "from sklearn.linear_model import LogisticRegression\n",
    "mlr = LogisticRegression(penalty='none', max_iter=2000).fit(X_train_norm, y_train)"
   ]
  },
  {
   "cell_type": "code",
   "execution_count": 508,
   "metadata": {
    "ExecuteTime": {
     "end_time": "2021-03-29T19:49:12.311382Z",
     "start_time": "2021-03-29T19:49:12.307834Z"
    },
    "hidden": true
   },
   "outputs": [
    {
     "name": "stdout",
     "output_type": "stream",
     "text": [
      "Classification Error: 0.044642857142857095\n"
     ]
    }
   ],
   "source": [
    "print(f'Classification Error: {1-mlr.score(X_test_norm, y_test)}')"
   ]
  },
  {
   "cell_type": "markdown",
   "metadata": {
    "heading_collapsed": true
   },
   "source": [
    "# LDA"
   ]
  },
  {
   "cell_type": "code",
   "execution_count": 509,
   "metadata": {
    "ExecuteTime": {
     "end_time": "2021-03-29T19:49:13.259276Z",
     "start_time": "2021-03-29T19:49:13.246990Z"
    },
    "hidden": true
   },
   "outputs": [
    {
     "data": {
      "text/plain": [
       "LinearDiscriminantAnalysis()"
      ]
     },
     "execution_count": 509,
     "metadata": {},
     "output_type": "execute_result"
    }
   ],
   "source": [
    "from sklearn.discriminant_analysis import LinearDiscriminantAnalysis\n",
    "\n",
    "lda = LinearDiscriminantAnalysis()\n",
    "lda.fit(X_train_norm, y_train)"
   ]
  },
  {
   "cell_type": "code",
   "execution_count": 510,
   "metadata": {
    "ExecuteTime": {
     "end_time": "2021-03-29T19:49:13.911017Z",
     "start_time": "2021-03-29T19:49:13.904890Z"
    },
    "hidden": true
   },
   "outputs": [
    {
     "name": "stdout",
     "output_type": "stream",
     "text": [
      "Classification Error: 0.05654761904761907\n"
     ]
    }
   ],
   "source": [
    "print(f'Classification Error: {1-lda.score(X_test_norm, y_test)}')"
   ]
  },
  {
   "cell_type": "markdown",
   "metadata": {
    "heading_collapsed": true
   },
   "source": [
    "# KNN"
   ]
  },
  {
   "cell_type": "markdown",
   "metadata": {
    "hidden": true
   },
   "source": [
    "### 5 neighbors"
   ]
  },
  {
   "cell_type": "code",
   "execution_count": 511,
   "metadata": {
    "ExecuteTime": {
     "end_time": "2021-03-29T19:49:14.942808Z",
     "start_time": "2021-03-29T19:49:14.933981Z"
    },
    "hidden": true
   },
   "outputs": [
    {
     "data": {
      "text/plain": [
       "KNeighborsClassifier()"
      ]
     },
     "execution_count": 511,
     "metadata": {},
     "output_type": "execute_result"
    }
   ],
   "source": [
    "from sklearn.neighbors import KNeighborsClassifier\n",
    "\n",
    "knn = KNeighborsClassifier(n_neighbors=5)\n",
    "knn.fit(X_train_norm, y_train)"
   ]
  },
  {
   "cell_type": "code",
   "execution_count": 512,
   "metadata": {
    "ExecuteTime": {
     "end_time": "2021-03-29T19:49:15.457153Z",
     "start_time": "2021-03-29T19:49:15.435156Z"
    },
    "hidden": true
   },
   "outputs": [
    {
     "name": "stdout",
     "output_type": "stream",
     "text": [
      "Classification Error: 0.07738095238095233\n"
     ]
    }
   ],
   "source": [
    "print(f'Classification Error: {1-knn.score(X_test_norm, y_test)}')"
   ]
  },
  {
   "cell_type": "markdown",
   "metadata": {
    "hidden": true
   },
   "source": [
    "### 10 neighbors"
   ]
  },
  {
   "cell_type": "code",
   "execution_count": 513,
   "metadata": {
    "ExecuteTime": {
     "end_time": "2021-03-29T19:49:16.116130Z",
     "start_time": "2021-03-29T19:49:16.106621Z"
    },
    "hidden": true
   },
   "outputs": [
    {
     "data": {
      "text/plain": [
       "KNeighborsClassifier(n_neighbors=10)"
      ]
     },
     "execution_count": 513,
     "metadata": {},
     "output_type": "execute_result"
    }
   ],
   "source": [
    "from sklearn.neighbors import KNeighborsClassifier\n",
    "\n",
    "knn = KNeighborsClassifier(n_neighbors=10)\n",
    "knn.fit(X_train_norm, y_train)"
   ]
  },
  {
   "cell_type": "code",
   "execution_count": 514,
   "metadata": {
    "ExecuteTime": {
     "end_time": "2021-03-29T19:49:16.540292Z",
     "start_time": "2021-03-29T19:49:16.519140Z"
    },
    "hidden": true,
    "scrolled": true
   },
   "outputs": [
    {
     "name": "stdout",
     "output_type": "stream",
     "text": [
      "Classification Error: 0.0714285714285714\n"
     ]
    }
   ],
   "source": [
    "print(f'Classification Error: {1-knn.score(X_test_norm, y_test)}')"
   ]
  },
  {
   "cell_type": "markdown",
   "metadata": {
    "ExecuteTime": {
     "end_time": "2021-03-29T19:36:00.662936Z",
     "start_time": "2021-03-29T19:36:00.659878Z"
    },
    "heading_collapsed": true
   },
   "source": [
    "# Boosted Trees"
   ]
  },
  {
   "cell_type": "code",
   "execution_count": 515,
   "metadata": {
    "ExecuteTime": {
     "end_time": "2021-03-29T19:49:18.390098Z",
     "start_time": "2021-03-29T19:49:17.247120Z"
    },
    "hidden": true
   },
   "outputs": [
    {
     "name": "stdout",
     "output_type": "stream",
     "text": [
      "Classification Error: 0.059523809523809534\n"
     ]
    }
   ],
   "source": [
    "from sklearn.ensemble import GradientBoostingClassifier\n",
    "clf = GradientBoostingClassifier(n_estimators=500, learning_rate=1.0,\n",
    "                                 max_depth=1, random_state=1).fit(X_train_norm, y_train)\n",
    "\n",
    "print(f'Classification Error: {1-clf.score(X_test_norm, y_test)}')"
   ]
  },
  {
   "cell_type": "code",
   "execution_count": 516,
   "metadata": {
    "ExecuteTime": {
     "end_time": "2021-03-29T19:49:20.863778Z",
     "start_time": "2021-03-29T19:49:18.567709Z"
    },
    "hidden": true
   },
   "outputs": [
    {
     "name": "stdout",
     "output_type": "stream",
     "text": [
      "Classification Error: 0.0535714285714286\n"
     ]
    }
   ],
   "source": [
    "from sklearn.ensemble import GradientBoostingClassifier\n",
    "clf = GradientBoostingClassifier(n_estimators=1000, learning_rate=1,\n",
    "                                 max_depth=1, random_state=1).fit(X_train_norm, y_train)\n",
    "\n",
    "print(f'Classification Error: {1-clf.score(X_test_norm, y_test)}')"
   ]
  },
  {
   "cell_type": "markdown",
   "metadata": {
    "heading_collapsed": true
   },
   "source": [
    "# Random Forest"
   ]
  },
  {
   "cell_type": "code",
   "execution_count": 517,
   "metadata": {
    "ExecuteTime": {
     "end_time": "2021-03-29T19:49:21.372424Z",
     "start_time": "2021-03-29T19:49:21.055836Z"
    },
    "hidden": true
   },
   "outputs": [
    {
     "name": "stdout",
     "output_type": "stream",
     "text": [
      "Classification Error: 0.0625\n"
     ]
    }
   ],
   "source": [
    "from sklearn.ensemble import RandomForestClassifier\n",
    "clf=RandomForestClassifier(n_estimators=100)\n",
    "clf.fit(X_train_norm,y_train)\n",
    "print(f'Classification Error: {1-clf.score(X_test_norm, y_test)}')"
   ]
  },
  {
   "cell_type": "code",
   "execution_count": 518,
   "metadata": {
    "ExecuteTime": {
     "end_time": "2021-03-29T19:49:22.135817Z",
     "start_time": "2021-03-29T19:49:21.554711Z"
    },
    "hidden": true
   },
   "outputs": [
    {
     "name": "stdout",
     "output_type": "stream",
     "text": [
      "Classification Error: 0.0625\n"
     ]
    }
   ],
   "source": [
    "from sklearn.ensemble import RandomForestClassifier\n",
    "clf=RandomForestClassifier(n_estimators=200)\n",
    "clf.fit(X_train_norm,y_train)\n",
    "print(f'Classification Error: {1-clf.score(X_test_norm, y_test)}')"
   ]
  }
 ],
 "metadata": {
  "kernelspec": {
   "display_name": "Python 3",
   "language": "python",
   "name": "python3"
  },
  "language_info": {
   "codemirror_mode": {
    "name": "ipython",
    "version": 3
   },
   "file_extension": ".py",
   "mimetype": "text/x-python",
   "name": "python",
   "nbconvert_exporter": "python",
   "pygments_lexer": "ipython3",
   "version": "3.8.3"
  },
  "varInspector": {
   "cols": {
    "lenName": 16,
    "lenType": 16,
    "lenVar": 40
   },
   "kernels_config": {
    "python": {
     "delete_cmd_postfix": "",
     "delete_cmd_prefix": "del ",
     "library": "var_list.py",
     "varRefreshCmd": "print(var_dic_list())"
    },
    "r": {
     "delete_cmd_postfix": ") ",
     "delete_cmd_prefix": "rm(",
     "library": "var_list.r",
     "varRefreshCmd": "cat(var_dic_list()) "
    }
   },
   "types_to_exclude": [
    "module",
    "function",
    "builtin_function_or_method",
    "instance",
    "_Feature"
   ],
   "window_display": false
  }
 },
 "nbformat": 4,
 "nbformat_minor": 4
}
